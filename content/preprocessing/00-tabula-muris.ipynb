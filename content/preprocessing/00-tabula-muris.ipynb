{
 "cells": [
  {
   "attachments": {},
   "cell_type": "markdown",
   "metadata": {},
   "source": [
    "# Tabula Muris\n",
    "\n",
    "## Introduction\n",
    "\n",
    "To give you hands-on experience analyzing a single-cell RNASeq dataset from start to finish, we will be using data from [Tabula Muris](https://tabula-muris.ds.czbiohub.org/) as an example. The Tabula Muris is a collaborative effort to profile every mouse tissue at a single-cell level. The full dataset includes both high throughput but low-coverage 10X data and lower throughput but high-coverage Smartseq2 data.\n",
    "\n",
    "For this workshop, we will be using the Smartseq2 data from the mouse brain. This data consists of:  \n",
    "1. an __expression matrix__ where each column corresponds to a gene (or transcript) and each row corresponds to a single cell  \n",
    "2. a table of __metadata__ describing each cell\n",
    "\n",
    "## Downloading the data\n",
    "\n",
    "The data is bundled in this course repository under `scRNA-python-workshop/content/data.zip`. You can also find the data files directly [here](https://github.com/chanzuckerberg/scRNA-python-workshop/blob/master/content/data.zip). Unzip the folder so that the files are located in the directory `scRNA-python-workshop/content/data/`.\n",
    "\n",
    "## Reading the data\n",
    "\n",
    "We can now read in the count matrix from the comma-separated file. Then inspect the resulting dataframe:"
   ]
  },
  {
   "cell_type": "code",
   "execution_count": 1,
   "metadata": {},
   "outputs": [],
   "source": [
    "import pandas as pd ## load in the pandas library for working with dataframes"
   ]
  },
  {
   "cell_type": "code",
   "execution_count": 2,
   "metadata": {},
   "outputs": [
    {
     "name": "stdout",
     "output_type": "stream",
     "text": [
      "                       0610005C13Rik  0610007C21Rik  0610007L01Rik  \\\n",
      "A1.B003290.3_38_F.1.1              0            125             16   \n",
      "A1.B003728.3_56_F.1.1              0              0              0   \n",
      "\n",
      "                       0610007N19Rik  0610007P08Rik  0610007P14Rik  \\\n",
      "A1.B003290.3_38_F.1.1              0              0              0   \n",
      "A1.B003728.3_56_F.1.1              0              0            324   \n",
      "\n",
      "                       0610007P22Rik  0610008F07Rik  0610009B14Rik  \\\n",
      "A1.B003290.3_38_F.1.1              0              0              0   \n",
      "A1.B003728.3_56_F.1.1              0              0              0   \n",
      "\n",
      "                       0610009B22Rik  ...  Zxdb  Zxdc  Zyg11a  Zyg11b  Zyx  \\\n",
      "A1.B003290.3_38_F.1.1              0  ...     0     0       0       0    0   \n",
      "A1.B003728.3_56_F.1.1              0  ...     0     0       0       0    0   \n",
      "\n",
      "                       Zzef1  Zzz3  a  l7Rn6  zsGreen_transgene  \n",
      "A1.B003290.3_38_F.1.1      0     0  0     54                  0  \n",
      "A1.B003728.3_56_F.1.1      0     0  0      0                  0  \n",
      "\n",
      "[2 rows x 23433 columns]\n"
     ]
    }
   ],
   "source": [
    "## tell pandas to make a new DataFrame with the contents of `brain_counts.csv`. This might take a minute.\n",
    "count_dataframe = pd.read_csv('../data/brain_counts.csv', # where to find the data\n",
    "                              index_col=0) # use the first column to label the rows (the 'index')\n",
    "\n",
    "## print the first 2 rows of our dataframe\n",
    "print(count_dataframe.head(2)) "
   ]
  },
  {
   "attachments": {},
   "cell_type": "markdown",
   "metadata": {},
   "source": [
    "### Exercise  \n",
    "\n",
    "What do the column names represent? What do the row names represent? How many cells and genes are in this dataset?\n",
    "\n",
    "Hint: need some help? Try `help(pd.DataFrame.shape)`.\n",
    "\n",
    "<p>\n",
    "<details>\n",
    "<summary><h3>Solution</h3></summary>\n",
    "The column names represent genes. \n",
    "The row names represent unique cell identifiers that were assigned by the authors of the dataset.\n",
    "<p/>\n",
    "We can find out how many genes and cells are in the dataset by asking for its <code>shape</code>:  <br>\n",
    "<code>print(count_dataframe.shape)</code><br>\n",
    "gives:<br>\n",
    "<code>(3401, 23433)</code>\n",
    "<p/>\n",
    "which represents <code>(N rows, N columns)</code>.\n",
    "</details>\n",
    "</p>"
   ]
  },
  {
   "cell_type": "code",
   "execution_count": 3,
   "metadata": {},
   "outputs": [
    {
     "name": "stdout",
     "output_type": "stream",
     "text": [
      "Help on property:\n",
      "\n",
      "    Return a tuple representing the dimensionality of the DataFrame.\n",
      "    \n",
      "    See Also\n",
      "    --------\n",
      "    ndarray.shape : Tuple of array dimensions.\n",
      "    \n",
      "    Examples\n",
      "    --------\n",
      "    >>> df = pd.DataFrame({'col1': [1, 2], 'col2': [3, 4]})\n",
      "    >>> df.shape\n",
      "    (2, 2)\n",
      "    \n",
      "    >>> df = pd.DataFrame({'col1': [1, 2], 'col2': [3, 4],\n",
      "    ...                    'col3': [5, 6]})\n",
      "    >>> df.shape\n",
      "    (2, 3)\n",
      "\n"
     ]
    }
   ],
   "source": [
    "help(pd.DataFrame.shape)"
   ]
  },
  {
   "attachments": {},
   "cell_type": "markdown",
   "metadata": {},
   "source": [
    "## Reading the metadata\n",
    "\n",
    "The authors have also provided metadata describing each cell. This metadata is stored in a separate file, `brain_metadata.csv`. We can load it into a dataframe and inspect it, just like we did for the count data. \n",
    "\n",
    "### Exercise  \n",
    "\n",
    "Load the metadata from the csv file into a pandas dataframe called `metadata_dataframe`. Does it have the same dimensions and index as the `counts_dataframe`?\n",
    "\n",
    "<p>\n",
    "<details>\n",
    "<summary><h3>Solution</h3></summary>\n",
    "First, we need to load in the metadata.<br>\n",
    "<code style=display:block;white-space:pre-wrap>metadata_dataframe = pd.read_csv('../data/brain_metadata.csv', # where to find the data\n",
    "                           index_col=0) # use the first column as the index</code>\n",
    "    \n",
    "<p>\n",
    "Let's take a peak at the resulting dataframe to make sure it looks correct. <br>\n",
    "<code style=display:block;white-space:pre-wrap>print(metadata_dataframe.shape)\n",
    ">>> (3401, 5)</code><br>\n",
    "We have 5 columns of information about 3,401 cells. Sounds reasonable.\n",
    "    \n",
    "</p><p>\n",
    "Let's take a closer look and inspect the first few rows:<p/>\n",
    "<code>print(metadata_dataframe.head())</code><br>\n",
    "<code style=display:block;white-space:pre-wrap>>>>                        cell_ontology_class    subtissue mouse.sex mouse.id  \\\n",
    "cell                                                                          \n",
    "A1.B003290.3_38_F.1.1             astrocyte     Striatum         F   3_38_F   \n",
    "A1.B003728.3_56_F.1.1             astrocyte     Striatum         F   3_56_F   \n",
    "A1.MAA000560.3_10_M.1.1     oligodendrocyte       Cortex         M   3_10_M   \n",
    "A1.MAA000564.3_10_M.1.1    endothelial cell     Striatum         M   3_10_M   \n",
    "A1.MAA000923.3_9_M.1.1            astrocyte  Hippocampus         M    3_9_M   \n",
    "                        plate.barcode  \n",
    "cell                                   \n",
    "A1.B003290.3_38_F.1.1         B003290  \n",
    "A1.B003728.3_56_F.1.1         B003728  \n",
    "A1.MAA000560.3_10_M.1.1     MAA000560  \n",
    "A1.MAA000564.3_10_M.1.1     MAA000564  \n",
    "A1.MAA000923.3_9_M.1.1      MAA000923</code>\n",
    "    </p>\n",
    "</details>\n",
    "</p>"
   ]
  },
  {
   "cell_type": "code",
   "execution_count": 13,
   "metadata": {},
   "outputs": [
    {
     "data": {
      "text/html": [
       "<div>\n",
       "<style scoped>\n",
       "    .dataframe tbody tr th:only-of-type {\n",
       "        vertical-align: middle;\n",
       "    }\n",
       "\n",
       "    .dataframe tbody tr th {\n",
       "        vertical-align: top;\n",
       "    }\n",
       "\n",
       "    .dataframe thead th {\n",
       "        text-align: right;\n",
       "    }\n",
       "</style>\n",
       "<table border=\"1\" class=\"dataframe\">\n",
       "  <thead>\n",
       "    <tr style=\"text-align: right;\">\n",
       "      <th></th>\n",
       "      <th>cell_ontology_class</th>\n",
       "      <th>subtissue</th>\n",
       "      <th>mouse.sex</th>\n",
       "      <th>mouse.id</th>\n",
       "      <th>plate.barcode</th>\n",
       "    </tr>\n",
       "    <tr>\n",
       "      <th>cell</th>\n",
       "      <th></th>\n",
       "      <th></th>\n",
       "      <th></th>\n",
       "      <th></th>\n",
       "      <th></th>\n",
       "    </tr>\n",
       "  </thead>\n",
       "  <tbody>\n",
       "    <tr>\n",
       "      <th>A1.B003290.3_38_F.1.1</th>\n",
       "      <td>astrocyte</td>\n",
       "      <td>Striatum</td>\n",
       "      <td>F</td>\n",
       "      <td>3_38_F</td>\n",
       "      <td>B003290</td>\n",
       "    </tr>\n",
       "    <tr>\n",
       "      <th>A1.B003728.3_56_F.1.1</th>\n",
       "      <td>astrocyte</td>\n",
       "      <td>Striatum</td>\n",
       "      <td>F</td>\n",
       "      <td>3_56_F</td>\n",
       "      <td>B003728</td>\n",
       "    </tr>\n",
       "    <tr>\n",
       "      <th>A1.MAA000560.3_10_M.1.1</th>\n",
       "      <td>oligodendrocyte</td>\n",
       "      <td>Cortex</td>\n",
       "      <td>M</td>\n",
       "      <td>3_10_M</td>\n",
       "      <td>MAA000560</td>\n",
       "    </tr>\n",
       "    <tr>\n",
       "      <th>A1.MAA000564.3_10_M.1.1</th>\n",
       "      <td>endothelial cell</td>\n",
       "      <td>Striatum</td>\n",
       "      <td>M</td>\n",
       "      <td>3_10_M</td>\n",
       "      <td>MAA000564</td>\n",
       "    </tr>\n",
       "    <tr>\n",
       "      <th>A1.MAA000923.3_9_M.1.1</th>\n",
       "      <td>astrocyte</td>\n",
       "      <td>Hippocampus</td>\n",
       "      <td>M</td>\n",
       "      <td>3_9_M</td>\n",
       "      <td>MAA000923</td>\n",
       "    </tr>\n",
       "  </tbody>\n",
       "</table>\n",
       "</div>"
      ],
      "text/plain": [
       "                        cell_ontology_class    subtissue mouse.sex mouse.id  \\\n",
       "cell                                                                          \n",
       "A1.B003290.3_38_F.1.1             astrocyte     Striatum         F   3_38_F   \n",
       "A1.B003728.3_56_F.1.1             astrocyte     Striatum         F   3_56_F   \n",
       "A1.MAA000560.3_10_M.1.1     oligodendrocyte       Cortex         M   3_10_M   \n",
       "A1.MAA000564.3_10_M.1.1    endothelial cell     Striatum         M   3_10_M   \n",
       "A1.MAA000923.3_9_M.1.1            astrocyte  Hippocampus         M    3_9_M   \n",
       "\n",
       "                        plate.barcode  \n",
       "cell                                   \n",
       "A1.B003290.3_38_F.1.1         B003290  \n",
       "A1.B003728.3_56_F.1.1         B003728  \n",
       "A1.MAA000560.3_10_M.1.1     MAA000560  \n",
       "A1.MAA000564.3_10_M.1.1     MAA000564  \n",
       "A1.MAA000923.3_9_M.1.1      MAA000923  "
      ]
     },
     "execution_count": 13,
     "metadata": {},
     "output_type": "execute_result"
    }
   ],
   "source": [
    "metadata_dataframe = pd.read_csv('../data/brain_metadata.csv', index_col=0)\n",
    "metadata_dataframe.head()\n"
   ]
  },
  {
   "attachments": {},
   "cell_type": "markdown",
   "metadata": {},
   "source": [
    "### Exercise  \n",
    "\n",
    "To get a sense for what is in this dataset, let's look at the summary of each metadata column. \n",
    "\n",
    "1. How many cells from each `subtissue` label are in this dataset? <br>\n",
    "Hint: try running `help(pd.value_counts)` to get started  \n",
    "<p>\n",
    "2. Using a `for` loop, repeat this counting procedure to summarize each of the metadata columns.  <br>\n",
    "Hint: you can access all the column names in the dataframe with `columns = metadata_dataframe.columns.values`  \n",
    "\n",
    "\n",
    "<p>\n",
    "<details>\n",
    "<summary><h3>Solution</h3></summary>\n",
    "1. We can count the number of times each value appears in a column like this:<br>\n",
    "    <code style=display:block;white-space:pre-wrap>print(pd.value_counts(metadata_dataframe['subtissue']))\n",
    ">>>>        \n",
    "Cortex         1149\n",
    "Hippocampus     976\n",
    "Striatum        723\n",
    "Cerebellum      553\n",
    "Name: subtissue, dtype: int64</code>\n",
    "    <p/>\n",
    "2. To repeat this for each column in the dataframe, we can use a <code>for</code> loop:<br>\n",
    "<code style=display:block;white-space:pre-wrap>for column in metadata_dataframe.columns.values:\n",
    "    print(pd.value_counts(metadata_dataframe[column]))</code>\n",
    "</details>\n",
    "    </p>"
   ]
  },
  {
   "cell_type": "code",
   "execution_count": 14,
   "metadata": {},
   "outputs": [
    {
     "name": "stdout",
     "output_type": "stream",
     "text": [
      "cell_ontology_class\n",
      "oligodendrocyte                   1574\n",
      "endothelial cell                   715\n",
      "astrocyte                          432\n",
      "neuron                             281\n",
      "oligodendrocyte precursor cell     203\n",
      "brain pericyte                     156\n",
      "Bergmann glial cell                 40\n",
      "Name: count, dtype: int64\n",
      "subtissue\n",
      "Cortex         1149\n",
      "Hippocampus     976\n",
      "Striatum        723\n",
      "Cerebellum      553\n",
      "Name: count, dtype: int64\n",
      "mouse.sex\n",
      "M    2694\n",
      "F     707\n",
      "Name: count, dtype: int64\n",
      "mouse.id\n",
      "3_10_M    980\n",
      "3_9_M     871\n",
      "3_8_M     590\n",
      "3_38_F    355\n",
      "3_11_M    253\n",
      "3_39_F    241\n",
      "3_56_F    111\n",
      "Name: count, dtype: int64\n",
      "plate.barcode\n",
      "MAA000560    287\n",
      "MAA000926    263\n",
      "MAA000581    190\n",
      "MAA000944    184\n",
      "MAA000932    174\n",
      "MAA001894    147\n",
      "MAA000564    143\n",
      "MAA000942    136\n",
      "MAA000935    131\n",
      "MAA000941    125\n",
      "MAA000930    111\n",
      "MAA000923    108\n",
      "MAA000947    107\n",
      "B003290       98\n",
      "MAA000561     97\n",
      "MAA000615     95\n",
      "B003275       93\n",
      "MAA000641     67\n",
      "B003728       66\n",
      "MAA000940     63\n",
      "MAA001895     60\n",
      "MAA000563     57\n",
      "MAA000925     55\n",
      "B003277       52\n",
      "MAA000638     51\n",
      "MAA000902     40\n",
      "MAA000424     39\n",
      "MAA000553     39\n",
      "MAA000578     38\n",
      "MAA000928     36\n",
      "MAA000550     34\n",
      "MAA001845     33\n",
      "B001688       32\n",
      "B003274       27\n",
      "B000621       24\n",
      "MAA001854     23\n",
      "MAA001853     22\n",
      "B000404       21\n",
      "MAA000924     14\n",
      "MAA000538     10\n",
      "MAA001856      9\n",
      "Name: count, dtype: int64\n"
     ]
    }
   ],
   "source": [
    "for column in metadata_dataframe.columns.values:\n",
    "    print(pd.value_counts(metadata_dataframe[column]))"
   ]
  },
  {
   "attachments": {},
   "cell_type": "markdown",
   "metadata": {},
   "source": [
    "## Building an AnnData object"
   ]
  },
  {
   "attachments": {},
   "cell_type": "markdown",
   "metadata": {},
   "source": [
    "We now have two dataframes, containing the counts and metadata from the Tabula Muris brain dataset. To keep these organized, we'll use a **data structure** called **AnnData**. AnnData stands for \"annotated data,\" and is the standard format used by the analysis library, **SCANPY**. \n",
    "\n",
    "AnnData uses some generalized vocabulary to describe cells and genes: they refer to cells as **observations** and genes as **variables**. This data structure has four areas where we can store information:  \n",
    "\n",
    "<img src=\"../figures/anndata.svg\" alt=\"Drawing\" style=\"width: 500px;\"/>\n",
    "\n",
    "`AnnData.X` stores the count matrix  \n",
    "`AnnData.obs` stores metadata about the observations (cells)  \n",
    "`AnnData.var` stores metadata about the variables (genes)  \n",
    "`AnnData.uns` stores any additional, unstructured information we decide to attach later  \n",
    "\n",
    "\n",
    "\n",
    "Here, we have a count matrix and metadata that describes each cell, so we will use the `.X` and `.obs` portions of the AnnData structure. "
   ]
  },
  {
   "cell_type": "code",
   "execution_count": 11,
   "metadata": {},
   "outputs": [],
   "source": [
    "import scanpy as sc # import the scanpy library that tells Python how an AnnData data structure works"
   ]
  },
  {
   "cell_type": "code",
   "execution_count": 15,
   "metadata": {},
   "outputs": [
    {
     "name": "stdout",
     "output_type": "stream",
     "text": [
      "AnnData object with n_obs × n_vars = 3401 × 23433\n",
      "    obs: 'cell_ontology_class', 'subtissue', 'mouse.sex', 'mouse.id', 'plate.barcode'\n"
     ]
    }
   ],
   "source": [
    "# help(sc.AnnData)\n",
    "adata = sc.AnnData(X = count_dataframe, obs = metadata_dataframe)\n",
    "print(adata)"
   ]
  },
  {
   "attachments": {},
   "cell_type": "markdown",
   "metadata": {},
   "source": [
    "### Labeling spike-ins\n",
    "Because this is smartseq2 data, we may have spike-ins. These gene names start with `ERCC`. We can label them in `adata.var` as a gene annotation."
   ]
  },
  {
   "cell_type": "code",
   "execution_count": 20,
   "metadata": {},
   "outputs": [
    {
     "data": {
      "text/plain": [
       "array([False, False, False, ..., False, False, False])"
      ]
     },
     "execution_count": 20,
     "metadata": {},
     "output_type": "execute_result"
    }
   ],
   "source": [
    "adata.var_names.str.contains('ERCC')"
   ]
  },
  {
   "cell_type": "code",
   "execution_count": 25,
   "metadata": {},
   "outputs": [
    {
     "name": "stdout",
     "output_type": "stream",
     "text": [
      "found this many spike ins:  92\n"
     ]
    }
   ],
   "source": [
    "# Awfully inefficient, skip\n",
    "\n",
    "is_spike_in = {}\n",
    "number_of_spike_ins = 0\n",
    "\n",
    "for gene_name in adata.var_names:\n",
    "    if 'ERCC' in gene_name:\n",
    "        is_spike_in[gene_name] = True # record that we found a spike-in\n",
    "        number_of_spike_ins += 1 # bump the counter\n",
    "    else:\n",
    "        is_spike_in[gene_name] = False # record that this was not a spike-in\n",
    "        \n",
    "adata.var['ERCC'] = pd.Series(is_spike_in) # because the index of adata.var and the keys of is_spike_in match, anndata will take care of matching them up\n",
    "print('found this many spike ins: ', number_of_spike_ins)"
   ]
  },
  {
   "attachments": {},
   "cell_type": "markdown",
   "metadata": {},
   "source": [
    "Now that we've finished building our AnnData object, we can save it in a file for later use like so:"
   ]
  },
  {
   "cell_type": "code",
   "execution_count": 28,
   "metadata": {
    "scrolled": true
   },
   "outputs": [],
   "source": [
    "adata.write('../data/brain_raw.h5ad') ## the h5ad extension is AnnData-specific"
   ]
  },
  {
   "cell_type": "code",
   "execution_count": null,
   "metadata": {},
   "outputs": [],
   "source": []
  }
 ],
 "metadata": {
  "kernelspec": {
   "display_name": "Python 3",
   "language": "python",
   "name": "python3"
  },
  "language_info": {
   "codemirror_mode": {
    "name": "ipython",
    "version": 3
   },
   "file_extension": ".py",
   "mimetype": "text/x-python",
   "name": "python",
   "nbconvert_exporter": "python",
   "pygments_lexer": "ipython3",
   "version": "3.11.4"
  }
 },
 "nbformat": 4,
 "nbformat_minor": 2
}
